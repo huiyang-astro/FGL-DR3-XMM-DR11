{
 "cells": [
  {
   "cell_type": "code",
   "execution_count": 17,
   "id": "44068d73",
   "metadata": {},
   "outputs": [],
   "source": [
    "import pandas as pd\n",
    "from collections import Counter"
   ]
  },
  {
   "cell_type": "code",
   "execution_count": 3,
   "id": "4a82bcd9",
   "metadata": {},
   "outputs": [],
   "source": [
    "match = pd.read_csv('catalogs/FGL2XMM.csv')"
   ]
  },
  {
   "cell_type": "code",
   "execution_count": 6,
   "id": "eeb26301",
   "metadata": {},
   "outputs": [
    {
     "data": {
      "text/plain": [
       "Index(['Source_Name', 'DataRelease', 'RAJ2000', 'DEJ2000', 'GLON', 'GLAT',\n",
       "       'Conf_68_SemiMajor', 'Conf_68_SemiMinor', 'Conf_68_PosAng',\n",
       "       'Conf_95_SemiMajor',\n",
       "       ...\n",
       "       'SC_EP_8_FMAX', 'SC_EP_8_FMAX_ERR', 'MJD_FIRST', 'MJD_LAST',\n",
       "       'N_DETECTIONS', 'CONFUSED', 'WEBPAGE_URL', 'GroupID', 'GroupSize',\n",
       "       'Separation'],\n",
       "      dtype='object', length=127)"
      ]
     },
     "execution_count": 6,
     "metadata": {},
     "output_type": "execute_result"
    }
   ],
   "source": [
    "match.columns"
   ]
  },
  {
   "cell_type": "code",
   "execution_count": 11,
   "id": "963c6d39",
   "metadata": {},
   "outputs": [],
   "source": [
    "match_dup_XMM = match[match.duplicated(subset=['IAUNAME'], keep=False)]"
   ]
  },
  {
   "cell_type": "code",
   "execution_count": 12,
   "id": "b39feca9",
   "metadata": {},
   "outputs": [
    {
     "data": {
      "text/html": [
       "<div>\n",
       "<style scoped>\n",
       "    .dataframe tbody tr th:only-of-type {\n",
       "        vertical-align: middle;\n",
       "    }\n",
       "\n",
       "    .dataframe tbody tr th {\n",
       "        vertical-align: top;\n",
       "    }\n",
       "\n",
       "    .dataframe thead th {\n",
       "        text-align: right;\n",
       "    }\n",
       "</style>\n",
       "<table border=\"1\" class=\"dataframe\">\n",
       "  <thead>\n",
       "    <tr style=\"text-align: right;\">\n",
       "      <th></th>\n",
       "      <th>Source_Name</th>\n",
       "      <th>DataRelease</th>\n",
       "      <th>RAJ2000</th>\n",
       "      <th>DEJ2000</th>\n",
       "      <th>GLON</th>\n",
       "      <th>GLAT</th>\n",
       "      <th>Conf_68_SemiMajor</th>\n",
       "      <th>Conf_68_SemiMinor</th>\n",
       "      <th>Conf_68_PosAng</th>\n",
       "      <th>Conf_95_SemiMajor</th>\n",
       "      <th>...</th>\n",
       "      <th>SC_EP_8_FMAX</th>\n",
       "      <th>SC_EP_8_FMAX_ERR</th>\n",
       "      <th>MJD_FIRST</th>\n",
       "      <th>MJD_LAST</th>\n",
       "      <th>N_DETECTIONS</th>\n",
       "      <th>CONFUSED</th>\n",
       "      <th>WEBPAGE_URL</th>\n",
       "      <th>GroupID</th>\n",
       "      <th>GroupSize</th>\n",
       "      <th>Separation</th>\n",
       "    </tr>\n",
       "  </thead>\n",
       "  <tbody>\n",
       "    <tr>\n",
       "      <th>172</th>\n",
       "      <td>4FGL J0043.2+4114</td>\n",
       "      <td>1</td>\n",
       "      <td>10.8229</td>\n",
       "      <td>41.2415</td>\n",
       "      <td>121.28495</td>\n",
       "      <td>-21.604197</td>\n",
       "      <td>0.096456</td>\n",
       "      <td>0.061858</td>\n",
       "      <td>-45.74</td>\n",
       "      <td>0.1564</td>\n",
       "      <td>...</td>\n",
       "      <td>2.607680e-13</td>\n",
       "      <td>1.318864e-14</td>\n",
       "      <td>51720.488449</td>\n",
       "      <td>57774.912407</td>\n",
       "      <td>48</td>\n",
       "      <td>False</td>\n",
       "      <td>http://xmm-catalog.irap.omp.eu/source/20112570...</td>\n",
       "      <td>14.0</td>\n",
       "      <td>314.0</td>\n",
       "      <td>0.991870</td>\n",
       "    </tr>\n",
       "    <tr>\n",
       "      <th>173</th>\n",
       "      <td>4FGL J0043.2+4114</td>\n",
       "      <td>1</td>\n",
       "      <td>10.8229</td>\n",
       "      <td>41.2415</td>\n",
       "      <td>121.28495</td>\n",
       "      <td>-21.604197</td>\n",
       "      <td>0.096456</td>\n",
       "      <td>0.061858</td>\n",
       "      <td>-45.74</td>\n",
       "      <td>0.1564</td>\n",
       "      <td>...</td>\n",
       "      <td>3.371060e-14</td>\n",
       "      <td>5.941868e-15</td>\n",
       "      <td>53918.608900</td>\n",
       "      <td>53918.840799</td>\n",
       "      <td>1</td>\n",
       "      <td>False</td>\n",
       "      <td>http://xmm-catalog.irap.omp.eu/source/20405320...</td>\n",
       "      <td>14.0</td>\n",
       "      <td>314.0</td>\n",
       "      <td>0.990491</td>\n",
       "    </tr>\n",
       "  </tbody>\n",
       "</table>\n",
       "<p>2 rows × 127 columns</p>\n",
       "</div>"
      ],
      "text/plain": [
       "           Source_Name  DataRelease  RAJ2000  DEJ2000       GLON       GLAT  \\\n",
       "172  4FGL J0043.2+4114            1  10.8229  41.2415  121.28495 -21.604197   \n",
       "173  4FGL J0043.2+4114            1  10.8229  41.2415  121.28495 -21.604197   \n",
       "\n",
       "     Conf_68_SemiMajor  Conf_68_SemiMinor  Conf_68_PosAng  Conf_95_SemiMajor  \\\n",
       "172           0.096456           0.061858          -45.74             0.1564   \n",
       "173           0.096456           0.061858          -45.74             0.1564   \n",
       "\n",
       "     ...  SC_EP_8_FMAX  SC_EP_8_FMAX_ERR     MJD_FIRST      MJD_LAST  \\\n",
       "172  ...  2.607680e-13      1.318864e-14  51720.488449  57774.912407   \n",
       "173  ...  3.371060e-14      5.941868e-15  53918.608900  53918.840799   \n",
       "\n",
       "     N_DETECTIONS  CONFUSED  \\\n",
       "172            48     False   \n",
       "173             1     False   \n",
       "\n",
       "                                           WEBPAGE_URL  GroupID  GroupSize  \\\n",
       "172  http://xmm-catalog.irap.omp.eu/source/20112570...     14.0      314.0   \n",
       "173  http://xmm-catalog.irap.omp.eu/source/20405320...     14.0      314.0   \n",
       "\n",
       "     Separation  \n",
       "172    0.991870  \n",
       "173    0.990491  \n",
       "\n",
       "[2 rows x 127 columns]"
      ]
     },
     "execution_count": 12,
     "metadata": {},
     "output_type": "execute_result"
    }
   ],
   "source": [
    "match_dup_XMM"
   ]
  },
  {
   "cell_type": "code",
   "execution_count": 14,
   "id": "f735b709",
   "metadata": {},
   "outputs": [
    {
     "name": "stdout",
     "output_type": "stream",
     "text": [
      "9098 724\n"
     ]
    }
   ],
   "source": [
    "print(len(match),len(match.Source_Name.unique()))"
   ]
  },
  {
   "cell_type": "code",
   "execution_count": 16,
   "id": "e69f799b",
   "metadata": {},
   "outputs": [],
   "source": [
    "fgl = pd.read_csv('catalogs/gll_psc_v28.csv')"
   ]
  },
  {
   "cell_type": "code",
   "execution_count": 22,
   "id": "f7f477e9",
   "metadata": {},
   "outputs": [
    {
     "name": "stdout",
     "output_type": "stream",
     "text": [
      "Counter({nan: 2157, 'bcu': 1516, 'bll': 1410, 'fsrq': 750, 'PSR': 135, 'unk': 134, 'MSP': 120, 'spp': 114, 'FSRQ': 44, 'rdg': 39, 'glc': 35, 'msp': 35, 'SNR': 24, 'BLL': 22, 'snr': 19, 'PWN': 12, 'agn': 8, 'sbg': 8, 'HMB': 8, 'pwn': 8, 'bin': 6, 'RDG': 6, 'lmb': 6, 'css': 5, 'gal': 4, 'nlsy1': 4, 'NOV': 4, 'NLSY1': 4, 'hmb': 3, 'SFR': 3, 'GAL': 2, 'sfr': 2, 'LMB': 2, 'ssrq': 2, 'psr': 2, 'sey': 2, 'AGN': 1, 'BCU': 1, 'BIN': 1, 'GC': 1}) \n",
      "\n",
      "Counter({nan: 6350, 'agn': 174, 'unk': 100, 'psr': 11, 'sey': 8, 'msp': 6, 'sbg': 4, 'bin': 3, 'glc': 2, 'clust': 1})\n"
     ]
    }
   ],
   "source": [
    "print(Counter(fgl['CLASS1']),'\\n')\n",
    "print(Counter(fgl['CLASS2']))"
   ]
  },
  {
   "cell_type": "code",
   "execution_count": 25,
   "id": "af35b0e7",
   "metadata": {},
   "outputs": [
    {
     "name": "stdout",
     "output_type": "stream",
     "text": [
      "724\n",
      "Counter({nan: 173, 'bll': 107, 'bcu': 76, 'PSR': 64, 'fsrq': 60, 'MSP': 48, 'spp': 33, 'unk': 32, 'rdg': 18, 'glc': 17, 'snr': 13, 'FSRQ': 12, 'BLL': 11, 'sbg': 8, 'HMB': 8, 'pwn': 5, 'RDG': 4, 'msp': 4, 'lmb': 3, 'bin': 3, 'NLSY1': 3, 'gal': 2, 'sfr': 2, 'nlsy1': 2, 'LMB': 2, 'hmb': 2, 'ssrq': 2, 'psr': 2, 'NOV': 2, 'sey': 2, 'AGN': 1, 'BIN': 1, 'GC': 1, 'agn': 1})\n",
      "Identified 157 Associated 394 Unassociated 173\n"
     ]
    }
   ],
   "source": [
    "match_fgl = match.drop_duplicates(subset=['Source_Name'])\n",
    "print(len(match_fgl))\n",
    "print(Counter(match_fgl.CLASS1))\n",
    "print('Identified',64+48+12+11+8+4+3+2+2+1+1+1,'Associated',107+76+60+33+32+18+17+13+8+5+4+3+3+2+2+2+2+2+2+2+1,'Unassociated',173)\n",
    "#match[match.duplicated(subset=['Source_Name'], keep=False)]"
   ]
  },
  {
   "cell_type": "code",
   "execution_count": 27,
   "id": "7a201719",
   "metadata": {},
   "outputs": [],
   "source": [
    "match_Galactic = match[(match.GLAT < 10) & (match.GLAT > -10)]"
   ]
  },
  {
   "cell_type": "code",
   "execution_count": 32,
   "id": "e065960c",
   "metadata": {},
   "outputs": [
    {
     "name": "stdout",
     "output_type": "stream",
     "text": [
      "336\n",
      "Counter({nan: 1574, 'spp': 805, 'unk': 515, 'bcu': 371, 'PSR': 313, 'snr': 159, 'glc': 158, 'HMB': 136, 'bin': 94, 'pwn': 67, 'MSP': 54, 'lmb': 52, 'msp': 51, 'psr': 49, 'hmb': 35, 'sey': 30, 'rdg': 22, 'agn': 18, 'fsrq': 14, 'BIN': 13, 'bll': 12, 'NOV': 9, 'FSRQ': 5, 'GC': 3, 'sfr': 1})\n"
     ]
    }
   ],
   "source": [
    "print(len(match_Galactic.Source_Name.unique()))\n",
    "\n",
    "print(Counter(match_Galactic['CLASS1']))"
   ]
  },
  {
   "cell_type": "markdown",
   "id": "27a1664a",
   "metadata": {},
   "source": []
  }
 ],
 "metadata": {
  "kernelspec": {
   "display_name": "Python 3 (ipykernel)",
   "language": "python",
   "name": "python3"
  },
  "language_info": {
   "codemirror_mode": {
    "name": "ipython",
    "version": 3
   },
   "file_extension": ".py",
   "mimetype": "text/x-python",
   "name": "python",
   "nbconvert_exporter": "python",
   "pygments_lexer": "ipython3",
   "version": "3.9.7"
  }
 },
 "nbformat": 4,
 "nbformat_minor": 5
}
